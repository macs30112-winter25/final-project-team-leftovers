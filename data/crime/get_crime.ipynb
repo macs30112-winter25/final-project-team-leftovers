{
 "cells": [
  {
   "cell_type": "markdown",
   "metadata": {},
   "source": [
    "# Crime Scraper"
   ]
  },
  {
   "cell_type": "markdown",
   "metadata": {},
   "source": [
    "**Author: Zhenning Liu** <br> \n",
    "<br> This file utilize the city of Chicago API endpoint to request crime data in Chicago <br>\n",
    "Resource: https://data.cityofchicago.org/Public-Safety/Crimes-2001-to-Present/ijzp-q8t2/about_data"
   ]
  },
  {
   "cell_type": "code",
   "execution_count": null,
   "metadata": {},
   "outputs": [],
   "source": [
    "import requests\n",
    "import pandas as pd\n",
    "import os"
   ]
  },
  {
   "cell_type": "code",
   "execution_count": 4,
   "metadata": {},
   "outputs": [
    {
     "data": {
      "text/plain": [
       "255699"
      ]
     },
     "execution_count": 4,
     "metadata": {},
     "output_type": "execute_result"
    }
   ],
   "source": [
    "url = \"https://data.cityofchicago.org/resource/ijzp-q8t2.json?\"\n",
    "\n",
    "params = {\n",
    "    \"$where\": \"date between '2024-02-01T00:00:00' and '2025-02-01T00:00:00'\",\n",
    "    \"$limit\": \"300000\"\n",
    "}\n",
    "response = requests.get(url, params)\n",
    "data = response.json()\n",
    "len(data)"
   ]
  },
  {
   "cell_type": "code",
   "execution_count": 5,
   "metadata": {},
   "outputs": [],
   "source": [
    "df = pd.DataFrame(data)\n",
    "columns_to_keep = [\"id\", \"case_number\", \"date\", \"block\", \"primary_type\", \"description\", \"location_description\", \"arrest\", \"domestic\", \"latitude\", \"longitude\"]\n",
    "df = df[columns_to_keep]                                                            "
   ]
  },
  {
   "cell_type": "code",
   "execution_count": null,
   "metadata": {},
   "outputs": [],
   "source": [
    "folder_path = os.getcwd()\n",
    "file_path = os.path.join(folder_path, 'crime.csv')\n",
    "df.to_csv(file_path, index=False)"
   ]
  },
  {
   "cell_type": "code",
   "execution_count": 7,
   "metadata": {},
   "outputs": [
    {
     "data": {
      "text/plain": [
       "array(['MOTOR VEHICLE THEFT', 'ASSAULT', 'CRIMINAL DAMAGE', 'BURGLARY',\n",
       "       'DECEPTIVE PRACTICE', 'THEFT', 'OTHER OFFENSE',\n",
       "       'OFFENSE INVOLVING CHILDREN', 'BATTERY', 'CRIMINAL SEXUAL ASSAULT',\n",
       "       'SEX OFFENSE', 'WEAPONS VIOLATION', 'NARCOTICS', 'PROSTITUTION',\n",
       "       'ROBBERY', 'INTIMIDATION', 'CRIMINAL TRESPASS',\n",
       "       'PUBLIC PEACE VIOLATION', 'LIQUOR LAW VIOLATION',\n",
       "       'CONCEALED CARRY LICENSE VIOLATION',\n",
       "       'INTERFERENCE WITH PUBLIC OFFICER', 'STALKING', 'HOMICIDE',\n",
       "       'ARSON', 'PUBLIC INDECENCY', 'OBSCENITY', 'KIDNAPPING', 'GAMBLING',\n",
       "       'HUMAN TRAFFICKING', 'OTHER NARCOTIC VIOLATION', 'NON-CRIMINAL'],\n",
       "      dtype=object)"
      ]
     },
     "execution_count": 7,
     "metadata": {},
     "output_type": "execute_result"
    }
   ],
   "source": [
    "df['primary_type'].unique()"
   ]
  }
 ],
 "metadata": {
  "kernelspec": {
   "display_name": "base",
   "language": "python",
   "name": "python3"
  },
  "language_info": {
   "codemirror_mode": {
    "name": "ipython",
    "version": 3
   },
   "file_extension": ".py",
   "mimetype": "text/x-python",
   "name": "python",
   "nbconvert_exporter": "python",
   "pygments_lexer": "ipython3",
   "version": "3.11.4"
  }
 },
 "nbformat": 4,
 "nbformat_minor": 2
}
