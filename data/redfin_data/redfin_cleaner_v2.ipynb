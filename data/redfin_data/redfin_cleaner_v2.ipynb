{
 "cells": [
  {
   "cell_type": "code",
   "execution_count": 2,
   "metadata": {},
   "outputs": [],
   "source": [
    "import pandas as pd"
   ]
  },
  {
   "cell_type": "code",
   "execution_count": 3,
   "metadata": {},
   "outputs": [
    {
     "data": {
      "text/plain": [
       "<bound method DataFrame.info of                                                     url      type      price  \\\n",
       "0     https://redfin.com/IL/Chicago/155-N-Harbor-Dr-...  for_sale   465000.0   \n",
       "1     https://redfin.com/IL/Chicago/222-N-Columbus-D...  for_sale   289000.0   \n",
       "2     https://redfin.com/IL/Chicago/363-E-Wacker-Dr-...  for_sale  1950000.0   \n",
       "3     https://redfin.com/IL/Chicago/200-N-Dearborn-S...  for_sale   255000.0   \n",
       "4     https://redfin.com/IL/Chicago/400-E-Randolph-S...  for_sale   389000.0   \n",
       "...                                                 ...       ...        ...   \n",
       "4752  https://redfin.com/IL/Chicago/757-N-Orleans-St...  for_sale   409990.0   \n",
       "4753  https://redfin.com/IL/Chicago/474-N-Lake-Shore...  for_sale   275000.0   \n",
       "4754  https://redfin.com/IL/Chicago/353-W-Chicago-Av...  for_sale   799995.0   \n",
       "4755  https://redfin.com/IL/Chicago/1841-S-Calumet-A...  for_sale   420000.0   \n",
       "4756  https://redfin.com/IL/Chicago/1600-S-Indiana-A...  for_sale    19999.0   \n",
       "\n",
       "       sq_ft  price_per_sq_ft   latitude  longitude  beds  baths  \\\n",
       "0      998.0            466.0  41.884895 -87.615398   1.0    1.5   \n",
       "1      611.0            473.0  41.886684 -87.621214   1.0    1.0   \n",
       "2     2260.0            863.0  41.887451 -87.617460   2.0    2.5   \n",
       "3      775.0            329.0  41.886088 -87.630010   1.0    1.0   \n",
       "4      650.0            598.0  41.885003 -87.616864   0.0    1.0   \n",
       "...      ...              ...        ...        ...   ...    ...   \n",
       "4752   983.0            417.0  41.896301 -87.636563   1.0    1.0   \n",
       "4753   741.0            371.0  41.890837 -87.614590   1.0    1.0   \n",
       "4754     NaN              NaN  41.896348 -87.637744   3.0    3.0   \n",
       "4755  1210.0            347.0  41.857321 -87.618908   2.0    2.0   \n",
       "4756     NaN              NaN  41.859895 -87.623009   NaN    NaN   \n",
       "\n",
       "                                               address  ... property_type  \\\n",
       "0             155 N Harbor Dr #4004, Chicago, IL 60601  ...   Condo/Co-op   \n",
       "1           222 N Columbus Dr #2304, Chicago, IL 60601  ...   Condo/Co-op   \n",
       "2             363 E Wacker Dr #3103, Chicago, IL 60601  ...   Condo/Co-op   \n",
       "3           200 N Dearborn St #4608, Chicago, IL 60601  ...   Condo/Co-op   \n",
       "4           400 E Randolph St #1811, Chicago, IL 60601  ...   Condo/Co-op   \n",
       "...                                                ...  ...           ...   \n",
       "4752         757 N Orleans St #1303, Chicago, IL 60654  ...   Condo/Co-op   \n",
       "4753      474 N Lake Shore Dr #3404, Chicago, IL 60611  ...   Condo/Co-op   \n",
       "4754      353 W Chicago Ave Unit 4E, Chicago, IL 60654  ...   Condo/Co-op   \n",
       "4755       1841 S Calumet Ave #2202, Chicago, IL 60616  ...   Condo/Co-op   \n",
       "4756  1600 S Indiana Ave Unit P-100, Chicago, IL 60616  ...       Parking   \n",
       "\n",
       "          amenities.hoa_dues     amenities.community amenities.county  \\\n",
       "0       $905 monthly HOA fee            Harbor Point             Cook   \n",
       "1       $654 monthly HOA fee  Park Millennium Condos             Cook   \n",
       "2     $1,234 monthly HOA fee              CHI - Loop             Cook   \n",
       "3       $625 monthly HOA fee              CHI - Loop             Cook   \n",
       "4       $613 monthly HOA fee              CHI - Loop             Cook   \n",
       "...                      ...                     ...              ...   \n",
       "4752    $731 monthly HOA fee   CHI - Near North Side             Cook   \n",
       "4753    $748 monthly HOA fee   CHI - Near North Side             Cook   \n",
       "4754    $348 monthly HOA fee   CHI - Near North Side             Cook   \n",
       "4755  $1,473 monthly HOA fee       Museum Park Place             Cook   \n",
       "4756                     NaN   CHI - Near South Side             Cook   \n",
       "\n",
       "     amenities.built amenities.property_type amenities.heating_cooling  \\\n",
       "0      Built in 1974                   Condo                   Has A/C   \n",
       "1      Built in 2002                   Condo                   Has A/C   \n",
       "2      Built in 2021                   Condo                   Has A/C   \n",
       "3      Built in 1989                   Condo                   Has A/C   \n",
       "4      Built in 1963                   Condo                   Has A/C   \n",
       "...              ...                     ...                       ...   \n",
       "4752   Built in 2008                   Condo                   Has A/C   \n",
       "4753   Built in 1991                   Condo                   Has A/C   \n",
       "4754   Built in 1920                   Condo                   Has A/C   \n",
       "4755   Built in 2006                   Condo                   Has A/C   \n",
       "4756   Built in 2005                 Parking                       NaN   \n",
       "\n",
       "                       amenities.laundry amenities.parking amenities.lot_size  \n",
       "0     In-unit laundry (washer and dryer)               NaN                NaN  \n",
       "1     In-unit laundry (washer and dryer)    1 garage space                NaN  \n",
       "2     In-unit laundry (washer and dryer)               NaN                NaN  \n",
       "3                                    NaN               NaN                NaN  \n",
       "4                         Shared laundry    1 garage space                NaN  \n",
       "...                                  ...               ...                ...  \n",
       "4752  In-unit laundry (washer and dryer)    1 garage space                NaN  \n",
       "4753  In-unit laundry (washer and dryer)    1 garage space                NaN  \n",
       "4754  In-unit laundry (washer and dryer)   1 parking space                NaN  \n",
       "4755            Washer and dryer hookups    1 garage space                NaN  \n",
       "4756                                 NaN   1 parking space                NaN  \n",
       "\n",
       "[4757 rows x 22 columns]>"
      ]
     },
     "execution_count": 3,
     "metadata": {},
     "output_type": "execute_result"
    }
   ],
   "source": [
    "# Further cleaning required \n",
    "property_df = pd.read_csv('redfin_cleaned_v1.csv')\n",
    "property_df.info"
   ]
  },
  {
   "cell_type": "code",
   "execution_count": 3,
   "metadata": {},
   "outputs": [
    {
     "data": {
      "text/html": [
       "<div>\n",
       "<style scoped>\n",
       "    .dataframe tbody tr th:only-of-type {\n",
       "        vertical-align: middle;\n",
       "    }\n",
       "\n",
       "    .dataframe tbody tr th {\n",
       "        vertical-align: top;\n",
       "    }\n",
       "\n",
       "    .dataframe thead th {\n",
       "        text-align: right;\n",
       "    }\n",
       "</style>\n",
       "<table border=\"1\" class=\"dataframe\">\n",
       "  <thead>\n",
       "    <tr style=\"text-align: right;\">\n",
       "      <th></th>\n",
       "      <th>price</th>\n",
       "      <th>sq_ft</th>\n",
       "      <th>price_per_sq_ft</th>\n",
       "      <th>latitude</th>\n",
       "      <th>longitude</th>\n",
       "      <th>beds</th>\n",
       "      <th>baths</th>\n",
       "      <th>year_built</th>\n",
       "    </tr>\n",
       "  </thead>\n",
       "  <tbody>\n",
       "    <tr>\n",
       "      <th>count</th>\n",
       "      <td>4.746000e+03</td>\n",
       "      <td>2929.000000</td>\n",
       "      <td>2929.000000</td>\n",
       "      <td>4715.000000</td>\n",
       "      <td>4715.000000</td>\n",
       "      <td>4067.000000</td>\n",
       "      <td>4054.000000</td>\n",
       "      <td>3843.000000</td>\n",
       "    </tr>\n",
       "    <tr>\n",
       "      <th>mean</th>\n",
       "      <td>5.718354e+05</td>\n",
       "      <td>1995.126323</td>\n",
       "      <td>304.478320</td>\n",
       "      <td>41.847625</td>\n",
       "      <td>-87.652105</td>\n",
       "      <td>3.866978</td>\n",
       "      <td>2.566601</td>\n",
       "      <td>1955.102264</td>\n",
       "    </tr>\n",
       "    <tr>\n",
       "      <th>std</th>\n",
       "      <td>8.561368e+05</td>\n",
       "      <td>2560.879255</td>\n",
       "      <td>193.436577</td>\n",
       "      <td>0.083284</td>\n",
       "      <td>0.052739</td>\n",
       "      <td>3.977836</td>\n",
       "      <td>2.401605</td>\n",
       "      <td>45.798374</td>\n",
       "    </tr>\n",
       "    <tr>\n",
       "      <th>min</th>\n",
       "      <td>2.000000e+02</td>\n",
       "      <td>372.000000</td>\n",
       "      <td>1.000000</td>\n",
       "      <td>41.630254</td>\n",
       "      <td>-87.844916</td>\n",
       "      <td>0.000000</td>\n",
       "      <td>1.000000</td>\n",
       "      <td>1228.000000</td>\n",
       "    </tr>\n",
       "    <tr>\n",
       "      <th>25%</th>\n",
       "      <td>1.949000e+05</td>\n",
       "      <td>1050.000000</td>\n",
       "      <td>167.000000</td>\n",
       "      <td>41.777234</td>\n",
       "      <td>-87.682786</td>\n",
       "      <td>2.000000</td>\n",
       "      <td>1.500000</td>\n",
       "      <td>1915.000000</td>\n",
       "    </tr>\n",
       "    <tr>\n",
       "      <th>50%</th>\n",
       "      <td>3.299000e+05</td>\n",
       "      <td>1407.000000</td>\n",
       "      <td>271.000000</td>\n",
       "      <td>41.872552</td>\n",
       "      <td>-87.639948</td>\n",
       "      <td>3.000000</td>\n",
       "      <td>2.000000</td>\n",
       "      <td>1957.000000</td>\n",
       "    </tr>\n",
       "    <tr>\n",
       "      <th>75%</th>\n",
       "      <td>5.990000e+05</td>\n",
       "      <td>2193.000000</td>\n",
       "      <td>388.000000</td>\n",
       "      <td>41.900878</td>\n",
       "      <td>-87.621212</td>\n",
       "      <td>5.000000</td>\n",
       "      <td>3.000000</td>\n",
       "      <td>2002.000000</td>\n",
       "    </tr>\n",
       "    <tr>\n",
       "      <th>max</th>\n",
       "      <td>2.100000e+07</td>\n",
       "      <td>66000.000000</td>\n",
       "      <td>1409.000000</td>\n",
       "      <td>42.021796</td>\n",
       "      <td>-87.528950</td>\n",
       "      <td>75.000000</td>\n",
       "      <td>53.000000</td>\n",
       "      <td>2026.000000</td>\n",
       "    </tr>\n",
       "  </tbody>\n",
       "</table>\n",
       "</div>"
      ],
      "text/plain": [
       "              price         sq_ft  price_per_sq_ft     latitude    longitude  \\\n",
       "count  4.746000e+03   2929.000000      2929.000000  4715.000000  4715.000000   \n",
       "mean   5.718354e+05   1995.126323       304.478320    41.847625   -87.652105   \n",
       "std    8.561368e+05   2560.879255       193.436577     0.083284     0.052739   \n",
       "min    2.000000e+02    372.000000         1.000000    41.630254   -87.844916   \n",
       "25%    1.949000e+05   1050.000000       167.000000    41.777234   -87.682786   \n",
       "50%    3.299000e+05   1407.000000       271.000000    41.872552   -87.639948   \n",
       "75%    5.990000e+05   2193.000000       388.000000    41.900878   -87.621212   \n",
       "max    2.100000e+07  66000.000000      1409.000000    42.021796   -87.528950   \n",
       "\n",
       "              beds        baths   year_built  \n",
       "count  4067.000000  4054.000000  3843.000000  \n",
       "mean      3.866978     2.566601  1955.102264  \n",
       "std       3.977836     2.401605    45.798374  \n",
       "min       0.000000     1.000000  1228.000000  \n",
       "25%       2.000000     1.500000  1915.000000  \n",
       "50%       3.000000     2.000000  1957.000000  \n",
       "75%       5.000000     3.000000  2002.000000  \n",
       "max      75.000000    53.000000  2026.000000  "
      ]
     },
     "execution_count": 3,
     "metadata": {},
     "output_type": "execute_result"
    }
   ],
   "source": [
    "property_df.describe()"
   ]
  },
  {
   "cell_type": "code",
   "execution_count": 9,
   "metadata": {},
   "outputs": [
    {
     "data": {
      "text/plain": [
       "['url',\n",
       " 'type',\n",
       " 'price',\n",
       " 'sq_ft',\n",
       " 'price_per_sq_ft',\n",
       " 'latitude',\n",
       " 'longitude',\n",
       " 'beds',\n",
       " 'baths',\n",
       " 'address',\n",
       " 'tags',\n",
       " 'year_built',\n",
       " 'property_type',\n",
       " 'amenities.hoa_dues',\n",
       " 'amenities.community',\n",
       " 'amenities.county',\n",
       " 'amenities.built',\n",
       " 'amenities.property_type',\n",
       " 'amenities.heating_cooling',\n",
       " 'amenities.laundry',\n",
       " 'amenities.parking',\n",
       " 'amenities.lot_size']"
      ]
     },
     "execution_count": 9,
     "metadata": {},
     "output_type": "execute_result"
    }
   ],
   "source": [
    "property_df.columns.to_list()"
   ]
  },
  {
   "cell_type": "code",
   "execution_count": 14,
   "metadata": {},
   "outputs": [
    {
     "data": {
      "text/plain": [
       "array(['Condo/Co-op', 'Parking', 'Townhouse', 'Multi-Family (5+ Unit)',\n",
       "       'Multi-Family (2-4 Unit)', 'Vacant Land',\n",
       "       'Single Family Residential', nan], dtype=object)"
      ]
     },
     "execution_count": 14,
     "metadata": {},
     "output_type": "execute_result"
    }
   ],
   "source": [
    "property_df['property_type'].unique()"
   ]
  },
  {
   "cell_type": "code",
   "execution_count": 9,
   "metadata": {},
   "outputs": [],
   "source": [
    "# Need to clean out Parking and Vacant Lot\n",
    "# Resource:\n",
    "# https://saturncloud.io/blog/how-to-remove-rows-with-specific-values-in-pandas-dataframe/\n",
    "property_df_clean1 = property_df.drop(property_df[property_df['property_type'] == 'Parking'].index)\n",
    "property_df_clean2 = property_df_clean1.drop(property_df_clean1[property_df_clean1['property_type'] == 'Vacant Land'].index)"
   ]
  },
  {
   "cell_type": "code",
   "execution_count": 10,
   "metadata": {},
   "outputs": [
    {
     "data": {
      "text/plain": [
       "array(['Condo/Co-op', 'Townhouse', 'Multi-Family (5+ Unit)',\n",
       "       'Multi-Family (2-4 Unit)', 'Single Family Residential', nan],\n",
       "      dtype=object)"
      ]
     },
     "execution_count": 10,
     "metadata": {},
     "output_type": "execute_result"
    }
   ],
   "source": [
    "# Check to see if data is cleaned \n",
    "property_df_clean2['property_type'].unique()"
   ]
  },
  {
   "cell_type": "code",
   "execution_count": 13,
   "metadata": {},
   "outputs": [
    {
     "name": "stdout",
     "output_type": "stream",
     "text": [
      "<class 'pandas.core.frame.DataFrame'>\n",
      "Index: 4069 entries, 0 to 4755\n",
      "Data columns (total 22 columns):\n",
      " #   Column                     Non-Null Count  Dtype  \n",
      "---  ------                     --------------  -----  \n",
      " 0   url                        4069 non-null   object \n",
      " 1   type                       4069 non-null   object \n",
      " 2   price                      4069 non-null   float64\n",
      " 3   sq_ft                      2929 non-null   float64\n",
      " 4   price_per_sq_ft            2929 non-null   float64\n",
      " 5   latitude                   4032 non-null   float64\n",
      " 6   longitude                  4032 non-null   float64\n",
      " 7   beds                       4067 non-null   float64\n",
      " 8   baths                      4054 non-null   float64\n",
      " 9   address                    4034 non-null   object \n",
      " 10  tags                       3113 non-null   object \n",
      " 11  year_built                 3719 non-null   float64\n",
      " 12  property_type              4055 non-null   object \n",
      " 13  amenities.hoa_dues         1977 non-null   object \n",
      " 14  amenities.community        4034 non-null   object \n",
      " 15  amenities.county           4069 non-null   object \n",
      " 16  amenities.built            3720 non-null   object \n",
      " 17  amenities.property_type    4069 non-null   object \n",
      " 18  amenities.heating_cooling  2533 non-null   object \n",
      " 19  amenities.laundry          2108 non-null   object \n",
      " 20  amenities.parking          3123 non-null   object \n",
      " 21  amenities.lot_size         1637 non-null   object \n",
      "dtypes: float64(8), object(14)\n",
      "memory usage: 731.1+ KB\n",
      "\n",
      " 688 entries cleaned from original DF\n"
     ]
    }
   ],
   "source": [
    "property_df_clean2.info()\n",
    "cleaned_entry_count = len(property_df) - len(property_df_clean2)\n",
    "print(f'\\n {cleaned_entry_count} entries cleaned from original DF')"
   ]
  },
  {
   "cell_type": "code",
   "execution_count": 14,
   "metadata": {},
   "outputs": [],
   "source": [
    "property_df_clean2.to_csv('redfin_cleaned_v2.csv', index = False)"
   ]
  }
 ],
 "metadata": {
  "kernelspec": {
   "display_name": "macs30112",
   "language": "python",
   "name": "python3"
  },
  "language_info": {
   "codemirror_mode": {
    "name": "ipython",
    "version": 3
   },
   "file_extension": ".py",
   "mimetype": "text/x-python",
   "name": "python",
   "nbconvert_exporter": "python",
   "pygments_lexer": "ipython3",
   "version": "3.13.1"
  }
 },
 "nbformat": 4,
 "nbformat_minor": 2
}
