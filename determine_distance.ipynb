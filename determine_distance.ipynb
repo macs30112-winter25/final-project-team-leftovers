{
 "cells": [
  {
   "cell_type": "markdown",
   "metadata": {},
   "source": [
    "### Determining Radius Distance\n",
    "The purpose of this script is to determine radius ranges for each amenity. To calculate this, we take utilize Access Development's National Consumer Study Summary which provides travel times relative to specific amenities. Using those metrics, we calculate the total distance traveled by using Agbodo & Nuss's (2017) travel time study. The researchers determined that the 10-mile travel time is approximately 30.5 minutes. \n",
    "\n",
    "### Resources\n",
    "- https://hfsrb.illinois.gov/content/dam/soi/en/web/hfsrb/events/documents/archive/misc/final-travel-times-report_pc.pdf#:~:text=30,distribution%20of%20the%20travel%20time\n",
    "- https://ww2.accessdevelopment.com/consumer_proximity_study\n"
   ]
  },
  {
   "cell_type": "code",
   "execution_count": 9,
   "metadata": {
    "vscode": {
     "languageId": "powershell"
    }
   },
   "outputs": [
    {
     "name": "stdout",
     "output_type": "stream",
     "text": [
      "It takes 3.05 miutes to travel 1 mile\n",
      "0.33 can be traversed in 1 minute\n"
     ]
    }
   ],
   "source": [
    "am_travel_times = {\n",
    "    'Groceries' : 6.01,\n",
    "    'Fast Food' : 8.4,\n",
    "    'Casual Dining' : 11.45,\n",
    "}\n",
    "\n",
    "# The following floats are minutes\n",
    "# The time to travel 10 miles is aprox 30.5 minutes\n",
    "ten_mile_travel_time = 30.5\n",
    "# Thus, we divide the travel time by 10 to get get the time it takes to travel 1 mile\n",
    "one_mile_travel_time = ten_mile_travel_minutes / 10.0\n",
    "\n",
    "miles_per_minute = 10 / ten_mile_travel_time\n",
    "miles_per_minute = round(miles_per_minute, 2)\n",
    "\n",
    "print(f'It takes {one_mile_travel_time} miutes to travel 1 mile')\n",
    "print(f'{miles_per_minute} can be traversed in 1 minute')"
   ]
  },
  {
   "cell_type": "code",
   "execution_count": 10,
   "metadata": {},
   "outputs": [
    {
     "data": {
      "text/plain": [
       "{'Groceries': 1.9833,\n",
       " 'Fast Food': 2.7720000000000002,\n",
       " 'Casual Dining': 3.7784999999999997}"
      ]
     },
     "execution_count": 10,
     "metadata": {},
     "output_type": "execute_result"
    }
   ],
   "source": [
    "am_travel_dist = {}\n",
    "\n",
    "for amenity, time in am_travel_times.items():\n",
    "    am_travel_dist[amenity] = time * miles_per_minute\n",
    "\n",
    "am_travel_dist\n"
   ]
  }
 ],
 "metadata": {
  "kernelspec": {
   "display_name": "macs30112",
   "language": "python",
   "name": "python3"
  },
  "language_info": {
   "codemirror_mode": {
    "name": "ipython",
    "version": 3
   },
   "file_extension": ".py",
   "mimetype": "text/x-python",
   "name": "python",
   "nbconvert_exporter": "python",
   "pygments_lexer": "ipython3",
   "version": "3.13.1"
  }
 },
 "nbformat": 4,
 "nbformat_minor": 2
}
